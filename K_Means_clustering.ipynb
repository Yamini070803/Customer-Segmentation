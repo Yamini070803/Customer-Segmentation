{
  "nbformat": 4,
  "nbformat_minor": 0,
  "metadata": {
    "colab": {
      "provenance": []
    },
    "kernelspec": {
      "name": "python3",
      "display_name": "Python 3"
    },
    "language_info": {
      "name": "python"
    }
  },
  "cells": [
    {
      "cell_type": "code",
      "execution_count": null,
      "metadata": {
        "id": "osYIXb0cVnWt"
      },
      "outputs": [],
      "source": [
        "import numpy as np\n",
        "import pandas as pd\n",
        "from matplotlib import pyplot as plt\n",
        "import seaborn as sns\n",
        "from sklearn.cluster import KMeans\n",
        "from sklearn.preprocessing import MinMaxScaler"
      ]
    },
    {
      "cell_type": "code",
      "source": [
        "df= pd.read_csv('Mall_Customers.csv', index_col = 0)\n",
        "df.head()"
      ],
      "metadata": {
        "id": "MycKUSSlV5x3",
        "colab": {
          "base_uri": "https://localhost:8080/",
          "height": 238
        },
        "outputId": "fcf3efa3-e6b7-430a-bc30-0bf658bee820"
      },
      "execution_count": null,
      "outputs": [
        {
          "output_type": "execute_result",
          "data": {
            "text/plain": [
              "            Gender  Age  Annual Income (k$)  Spending Score (1-100)\n",
              "CustomerID                                                         \n",
              "1             Male   19                  15                      39\n",
              "2             Male   21                  15                      81\n",
              "3           Female   20                  16                       6\n",
              "4           Female   23                  16                      77\n",
              "5           Female   31                  17                      40"
            ],
            "text/html": [
              "\n",
              "  <div id=\"df-f5ae2091-2fe5-4932-94e5-25f0f481dc81\">\n",
              "    <div class=\"colab-df-container\">\n",
              "      <div>\n",
              "<style scoped>\n",
              "    .dataframe tbody tr th:only-of-type {\n",
              "        vertical-align: middle;\n",
              "    }\n",
              "\n",
              "    .dataframe tbody tr th {\n",
              "        vertical-align: top;\n",
              "    }\n",
              "\n",
              "    .dataframe thead th {\n",
              "        text-align: right;\n",
              "    }\n",
              "</style>\n",
              "<table border=\"1\" class=\"dataframe\">\n",
              "  <thead>\n",
              "    <tr style=\"text-align: right;\">\n",
              "      <th></th>\n",
              "      <th>Gender</th>\n",
              "      <th>Age</th>\n",
              "      <th>Annual Income (k$)</th>\n",
              "      <th>Spending Score (1-100)</th>\n",
              "    </tr>\n",
              "    <tr>\n",
              "      <th>CustomerID</th>\n",
              "      <th></th>\n",
              "      <th></th>\n",
              "      <th></th>\n",
              "      <th></th>\n",
              "    </tr>\n",
              "  </thead>\n",
              "  <tbody>\n",
              "    <tr>\n",
              "      <th>1</th>\n",
              "      <td>Male</td>\n",
              "      <td>19</td>\n",
              "      <td>15</td>\n",
              "      <td>39</td>\n",
              "    </tr>\n",
              "    <tr>\n",
              "      <th>2</th>\n",
              "      <td>Male</td>\n",
              "      <td>21</td>\n",
              "      <td>15</td>\n",
              "      <td>81</td>\n",
              "    </tr>\n",
              "    <tr>\n",
              "      <th>3</th>\n",
              "      <td>Female</td>\n",
              "      <td>20</td>\n",
              "      <td>16</td>\n",
              "      <td>6</td>\n",
              "    </tr>\n",
              "    <tr>\n",
              "      <th>4</th>\n",
              "      <td>Female</td>\n",
              "      <td>23</td>\n",
              "      <td>16</td>\n",
              "      <td>77</td>\n",
              "    </tr>\n",
              "    <tr>\n",
              "      <th>5</th>\n",
              "      <td>Female</td>\n",
              "      <td>31</td>\n",
              "      <td>17</td>\n",
              "      <td>40</td>\n",
              "    </tr>\n",
              "  </tbody>\n",
              "</table>\n",
              "</div>\n",
              "      <button class=\"colab-df-convert\" onclick=\"convertToInteractive('df-f5ae2091-2fe5-4932-94e5-25f0f481dc81')\"\n",
              "              title=\"Convert this dataframe to an interactive table.\"\n",
              "              style=\"display:none;\">\n",
              "        \n",
              "  <svg xmlns=\"http://www.w3.org/2000/svg\" height=\"24px\"viewBox=\"0 0 24 24\"\n",
              "       width=\"24px\">\n",
              "    <path d=\"M0 0h24v24H0V0z\" fill=\"none\"/>\n",
              "    <path d=\"M18.56 5.44l.94 2.06.94-2.06 2.06-.94-2.06-.94-.94-2.06-.94 2.06-2.06.94zm-11 1L8.5 8.5l.94-2.06 2.06-.94-2.06-.94L8.5 2.5l-.94 2.06-2.06.94zm10 10l.94 2.06.94-2.06 2.06-.94-2.06-.94-.94-2.06-.94 2.06-2.06.94z\"/><path d=\"M17.41 7.96l-1.37-1.37c-.4-.4-.92-.59-1.43-.59-.52 0-1.04.2-1.43.59L10.3 9.45l-7.72 7.72c-.78.78-.78 2.05 0 2.83L4 21.41c.39.39.9.59 1.41.59.51 0 1.02-.2 1.41-.59l7.78-7.78 2.81-2.81c.8-.78.8-2.07 0-2.86zM5.41 20L4 18.59l7.72-7.72 1.47 1.35L5.41 20z\"/>\n",
              "  </svg>\n",
              "      </button>\n",
              "      \n",
              "  <style>\n",
              "    .colab-df-container {\n",
              "      display:flex;\n",
              "      flex-wrap:wrap;\n",
              "      gap: 12px;\n",
              "    }\n",
              "\n",
              "    .colab-df-convert {\n",
              "      background-color: #E8F0FE;\n",
              "      border: none;\n",
              "      border-radius: 50%;\n",
              "      cursor: pointer;\n",
              "      display: none;\n",
              "      fill: #1967D2;\n",
              "      height: 32px;\n",
              "      padding: 0 0 0 0;\n",
              "      width: 32px;\n",
              "    }\n",
              "\n",
              "    .colab-df-convert:hover {\n",
              "      background-color: #E2EBFA;\n",
              "      box-shadow: 0px 1px 2px rgba(60, 64, 67, 0.3), 0px 1px 3px 1px rgba(60, 64, 67, 0.15);\n",
              "      fill: #174EA6;\n",
              "    }\n",
              "\n",
              "    [theme=dark] .colab-df-convert {\n",
              "      background-color: #3B4455;\n",
              "      fill: #D2E3FC;\n",
              "    }\n",
              "\n",
              "    [theme=dark] .colab-df-convert:hover {\n",
              "      background-color: #434B5C;\n",
              "      box-shadow: 0px 1px 3px 1px rgba(0, 0, 0, 0.15);\n",
              "      filter: drop-shadow(0px 1px 2px rgba(0, 0, 0, 0.3));\n",
              "      fill: #FFFFFF;\n",
              "    }\n",
              "  </style>\n",
              "\n",
              "      <script>\n",
              "        const buttonEl =\n",
              "          document.querySelector('#df-f5ae2091-2fe5-4932-94e5-25f0f481dc81 button.colab-df-convert');\n",
              "        buttonEl.style.display =\n",
              "          google.colab.kernel.accessAllowed ? 'block' : 'none';\n",
              "\n",
              "        async function convertToInteractive(key) {\n",
              "          const element = document.querySelector('#df-f5ae2091-2fe5-4932-94e5-25f0f481dc81');\n",
              "          const dataTable =\n",
              "            await google.colab.kernel.invokeFunction('convertToInteractive',\n",
              "                                                     [key], {});\n",
              "          if (!dataTable) return;\n",
              "\n",
              "          const docLinkHtml = 'Like what you see? Visit the ' +\n",
              "            '<a target=\"_blank\" href=https://colab.research.google.com/notebooks/data_table.ipynb>data table notebook</a>'\n",
              "            + ' to learn more about interactive tables.';\n",
              "          element.innerHTML = '';\n",
              "          dataTable['output_type'] = 'display_data';\n",
              "          await google.colab.output.renderOutput(dataTable, element);\n",
              "          const docLink = document.createElement('div');\n",
              "          docLink.innerHTML = docLinkHtml;\n",
              "          element.appendChild(docLink);\n",
              "        }\n",
              "      </script>\n",
              "    </div>\n",
              "  </div>\n",
              "  "
            ]
          },
          "metadata": {},
          "execution_count": 39
        }
      ]
    },
    {
      "cell_type": "code",
      "source": [
        "df.rename(columns= {'Genre': 'Gender'}, inplace = True)\n",
        "df.head()"
      ],
      "metadata": {
        "id": "mZ7HQdLUWOoV",
        "colab": {
          "base_uri": "https://localhost:8080/",
          "height": 238
        },
        "outputId": "463810ca-9063-42dd-d956-57ed81c9cbd5"
      },
      "execution_count": null,
      "outputs": [
        {
          "output_type": "execute_result",
          "data": {
            "text/plain": [
              "            Gender  Age  Annual Income (k$)  Spending Score (1-100)\n",
              "CustomerID                                                         \n",
              "1             Male   19                  15                      39\n",
              "2             Male   21                  15                      81\n",
              "3           Female   20                  16                       6\n",
              "4           Female   23                  16                      77\n",
              "5           Female   31                  17                      40"
            ],
            "text/html": [
              "\n",
              "  <div id=\"df-5d66b1c3-8c24-434e-9ced-9f419554876b\">\n",
              "    <div class=\"colab-df-container\">\n",
              "      <div>\n",
              "<style scoped>\n",
              "    .dataframe tbody tr th:only-of-type {\n",
              "        vertical-align: middle;\n",
              "    }\n",
              "\n",
              "    .dataframe tbody tr th {\n",
              "        vertical-align: top;\n",
              "    }\n",
              "\n",
              "    .dataframe thead th {\n",
              "        text-align: right;\n",
              "    }\n",
              "</style>\n",
              "<table border=\"1\" class=\"dataframe\">\n",
              "  <thead>\n",
              "    <tr style=\"text-align: right;\">\n",
              "      <th></th>\n",
              "      <th>Gender</th>\n",
              "      <th>Age</th>\n",
              "      <th>Annual Income (k$)</th>\n",
              "      <th>Spending Score (1-100)</th>\n",
              "    </tr>\n",
              "    <tr>\n",
              "      <th>CustomerID</th>\n",
              "      <th></th>\n",
              "      <th></th>\n",
              "      <th></th>\n",
              "      <th></th>\n",
              "    </tr>\n",
              "  </thead>\n",
              "  <tbody>\n",
              "    <tr>\n",
              "      <th>1</th>\n",
              "      <td>Male</td>\n",
              "      <td>19</td>\n",
              "      <td>15</td>\n",
              "      <td>39</td>\n",
              "    </tr>\n",
              "    <tr>\n",
              "      <th>2</th>\n",
              "      <td>Male</td>\n",
              "      <td>21</td>\n",
              "      <td>15</td>\n",
              "      <td>81</td>\n",
              "    </tr>\n",
              "    <tr>\n",
              "      <th>3</th>\n",
              "      <td>Female</td>\n",
              "      <td>20</td>\n",
              "      <td>16</td>\n",
              "      <td>6</td>\n",
              "    </tr>\n",
              "    <tr>\n",
              "      <th>4</th>\n",
              "      <td>Female</td>\n",
              "      <td>23</td>\n",
              "      <td>16</td>\n",
              "      <td>77</td>\n",
              "    </tr>\n",
              "    <tr>\n",
              "      <th>5</th>\n",
              "      <td>Female</td>\n",
              "      <td>31</td>\n",
              "      <td>17</td>\n",
              "      <td>40</td>\n",
              "    </tr>\n",
              "  </tbody>\n",
              "</table>\n",
              "</div>\n",
              "      <button class=\"colab-df-convert\" onclick=\"convertToInteractive('df-5d66b1c3-8c24-434e-9ced-9f419554876b')\"\n",
              "              title=\"Convert this dataframe to an interactive table.\"\n",
              "              style=\"display:none;\">\n",
              "        \n",
              "  <svg xmlns=\"http://www.w3.org/2000/svg\" height=\"24px\"viewBox=\"0 0 24 24\"\n",
              "       width=\"24px\">\n",
              "    <path d=\"M0 0h24v24H0V0z\" fill=\"none\"/>\n",
              "    <path d=\"M18.56 5.44l.94 2.06.94-2.06 2.06-.94-2.06-.94-.94-2.06-.94 2.06-2.06.94zm-11 1L8.5 8.5l.94-2.06 2.06-.94-2.06-.94L8.5 2.5l-.94 2.06-2.06.94zm10 10l.94 2.06.94-2.06 2.06-.94-2.06-.94-.94-2.06-.94 2.06-2.06.94z\"/><path d=\"M17.41 7.96l-1.37-1.37c-.4-.4-.92-.59-1.43-.59-.52 0-1.04.2-1.43.59L10.3 9.45l-7.72 7.72c-.78.78-.78 2.05 0 2.83L4 21.41c.39.39.9.59 1.41.59.51 0 1.02-.2 1.41-.59l7.78-7.78 2.81-2.81c.8-.78.8-2.07 0-2.86zM5.41 20L4 18.59l7.72-7.72 1.47 1.35L5.41 20z\"/>\n",
              "  </svg>\n",
              "      </button>\n",
              "      \n",
              "  <style>\n",
              "    .colab-df-container {\n",
              "      display:flex;\n",
              "      flex-wrap:wrap;\n",
              "      gap: 12px;\n",
              "    }\n",
              "\n",
              "    .colab-df-convert {\n",
              "      background-color: #E8F0FE;\n",
              "      border: none;\n",
              "      border-radius: 50%;\n",
              "      cursor: pointer;\n",
              "      display: none;\n",
              "      fill: #1967D2;\n",
              "      height: 32px;\n",
              "      padding: 0 0 0 0;\n",
              "      width: 32px;\n",
              "    }\n",
              "\n",
              "    .colab-df-convert:hover {\n",
              "      background-color: #E2EBFA;\n",
              "      box-shadow: 0px 1px 2px rgba(60, 64, 67, 0.3), 0px 1px 3px 1px rgba(60, 64, 67, 0.15);\n",
              "      fill: #174EA6;\n",
              "    }\n",
              "\n",
              "    [theme=dark] .colab-df-convert {\n",
              "      background-color: #3B4455;\n",
              "      fill: #D2E3FC;\n",
              "    }\n",
              "\n",
              "    [theme=dark] .colab-df-convert:hover {\n",
              "      background-color: #434B5C;\n",
              "      box-shadow: 0px 1px 3px 1px rgba(0, 0, 0, 0.15);\n",
              "      filter: drop-shadow(0px 1px 2px rgba(0, 0, 0, 0.3));\n",
              "      fill: #FFFFFF;\n",
              "    }\n",
              "  </style>\n",
              "\n",
              "      <script>\n",
              "        const buttonEl =\n",
              "          document.querySelector('#df-5d66b1c3-8c24-434e-9ced-9f419554876b button.colab-df-convert');\n",
              "        buttonEl.style.display =\n",
              "          google.colab.kernel.accessAllowed ? 'block' : 'none';\n",
              "\n",
              "        async function convertToInteractive(key) {\n",
              "          const element = document.querySelector('#df-5d66b1c3-8c24-434e-9ced-9f419554876b');\n",
              "          const dataTable =\n",
              "            await google.colab.kernel.invokeFunction('convertToInteractive',\n",
              "                                                     [key], {});\n",
              "          if (!dataTable) return;\n",
              "\n",
              "          const docLinkHtml = 'Like what you see? Visit the ' +\n",
              "            '<a target=\"_blank\" href=https://colab.research.google.com/notebooks/data_table.ipynb>data table notebook</a>'\n",
              "            + ' to learn more about interactive tables.';\n",
              "          element.innerHTML = '';\n",
              "          dataTable['output_type'] = 'display_data';\n",
              "          await google.colab.output.renderOutput(dataTable, element);\n",
              "          const docLink = document.createElement('div');\n",
              "          docLink.innerHTML = docLinkHtml;\n",
              "          element.appendChild(docLink);\n",
              "        }\n",
              "      </script>\n",
              "    </div>\n",
              "  </div>\n",
              "  "
            ]
          },
          "metadata": {},
          "execution_count": 40
        }
      ]
    },
    {
      "cell_type": "code",
      "source": [
        "df.dtypes"
      ],
      "metadata": {
        "id": "Xl1q3zJeWZEV",
        "colab": {
          "base_uri": "https://localhost:8080/"
        },
        "outputId": "cb6831ca-47e3-4aec-a72f-6165bc54151c"
      },
      "execution_count": null,
      "outputs": [
        {
          "output_type": "execute_result",
          "data": {
            "text/plain": [
              "Gender                    object\n",
              "Age                        int64\n",
              "Annual Income (k$)         int64\n",
              "Spending Score (1-100)     int64\n",
              "dtype: object"
            ]
          },
          "metadata": {},
          "execution_count": 41
        }
      ]
    },
    {
      "cell_type": "code",
      "source": [
        "df.shape"
      ],
      "metadata": {
        "id": "lOcbX9k2Waq9",
        "colab": {
          "base_uri": "https://localhost:8080/"
        },
        "outputId": "8b313699-5327-4954-c313-32a7ec080667"
      },
      "execution_count": null,
      "outputs": [
        {
          "output_type": "execute_result",
          "data": {
            "text/plain": [
              "(200, 4)"
            ]
          },
          "metadata": {},
          "execution_count": 42
        }
      ]
    },
    {
      "cell_type": "code",
      "source": [
        "df.describe()"
      ],
      "metadata": {
        "id": "1p7wm6tJWewV",
        "colab": {
          "base_uri": "https://localhost:8080/",
          "height": 300
        },
        "outputId": "77d98d0f-e10b-4a02-e602-99f6307524a5"
      },
      "execution_count": null,
      "outputs": [
        {
          "output_type": "execute_result",
          "data": {
            "text/plain": [
              "              Age  Annual Income (k$)  Spending Score (1-100)\n",
              "count  200.000000          200.000000              200.000000\n",
              "mean    38.850000           60.560000               50.200000\n",
              "std     13.969007           26.264721               25.823522\n",
              "min     18.000000           15.000000                1.000000\n",
              "25%     28.750000           41.500000               34.750000\n",
              "50%     36.000000           61.500000               50.000000\n",
              "75%     49.000000           78.000000               73.000000\n",
              "max     70.000000          137.000000               99.000000"
            ],
            "text/html": [
              "\n",
              "  <div id=\"df-03aeb1e0-c632-4eed-b368-d597c6d074bb\">\n",
              "    <div class=\"colab-df-container\">\n",
              "      <div>\n",
              "<style scoped>\n",
              "    .dataframe tbody tr th:only-of-type {\n",
              "        vertical-align: middle;\n",
              "    }\n",
              "\n",
              "    .dataframe tbody tr th {\n",
              "        vertical-align: top;\n",
              "    }\n",
              "\n",
              "    .dataframe thead th {\n",
              "        text-align: right;\n",
              "    }\n",
              "</style>\n",
              "<table border=\"1\" class=\"dataframe\">\n",
              "  <thead>\n",
              "    <tr style=\"text-align: right;\">\n",
              "      <th></th>\n",
              "      <th>Age</th>\n",
              "      <th>Annual Income (k$)</th>\n",
              "      <th>Spending Score (1-100)</th>\n",
              "    </tr>\n",
              "  </thead>\n",
              "  <tbody>\n",
              "    <tr>\n",
              "      <th>count</th>\n",
              "      <td>200.000000</td>\n",
              "      <td>200.000000</td>\n",
              "      <td>200.000000</td>\n",
              "    </tr>\n",
              "    <tr>\n",
              "      <th>mean</th>\n",
              "      <td>38.850000</td>\n",
              "      <td>60.560000</td>\n",
              "      <td>50.200000</td>\n",
              "    </tr>\n",
              "    <tr>\n",
              "      <th>std</th>\n",
              "      <td>13.969007</td>\n",
              "      <td>26.264721</td>\n",
              "      <td>25.823522</td>\n",
              "    </tr>\n",
              "    <tr>\n",
              "      <th>min</th>\n",
              "      <td>18.000000</td>\n",
              "      <td>15.000000</td>\n",
              "      <td>1.000000</td>\n",
              "    </tr>\n",
              "    <tr>\n",
              "      <th>25%</th>\n",
              "      <td>28.750000</td>\n",
              "      <td>41.500000</td>\n",
              "      <td>34.750000</td>\n",
              "    </tr>\n",
              "    <tr>\n",
              "      <th>50%</th>\n",
              "      <td>36.000000</td>\n",
              "      <td>61.500000</td>\n",
              "      <td>50.000000</td>\n",
              "    </tr>\n",
              "    <tr>\n",
              "      <th>75%</th>\n",
              "      <td>49.000000</td>\n",
              "      <td>78.000000</td>\n",
              "      <td>73.000000</td>\n",
              "    </tr>\n",
              "    <tr>\n",
              "      <th>max</th>\n",
              "      <td>70.000000</td>\n",
              "      <td>137.000000</td>\n",
              "      <td>99.000000</td>\n",
              "    </tr>\n",
              "  </tbody>\n",
              "</table>\n",
              "</div>\n",
              "      <button class=\"colab-df-convert\" onclick=\"convertToInteractive('df-03aeb1e0-c632-4eed-b368-d597c6d074bb')\"\n",
              "              title=\"Convert this dataframe to an interactive table.\"\n",
              "              style=\"display:none;\">\n",
              "        \n",
              "  <svg xmlns=\"http://www.w3.org/2000/svg\" height=\"24px\"viewBox=\"0 0 24 24\"\n",
              "       width=\"24px\">\n",
              "    <path d=\"M0 0h24v24H0V0z\" fill=\"none\"/>\n",
              "    <path d=\"M18.56 5.44l.94 2.06.94-2.06 2.06-.94-2.06-.94-.94-2.06-.94 2.06-2.06.94zm-11 1L8.5 8.5l.94-2.06 2.06-.94-2.06-.94L8.5 2.5l-.94 2.06-2.06.94zm10 10l.94 2.06.94-2.06 2.06-.94-2.06-.94-.94-2.06-.94 2.06-2.06.94z\"/><path d=\"M17.41 7.96l-1.37-1.37c-.4-.4-.92-.59-1.43-.59-.52 0-1.04.2-1.43.59L10.3 9.45l-7.72 7.72c-.78.78-.78 2.05 0 2.83L4 21.41c.39.39.9.59 1.41.59.51 0 1.02-.2 1.41-.59l7.78-7.78 2.81-2.81c.8-.78.8-2.07 0-2.86zM5.41 20L4 18.59l7.72-7.72 1.47 1.35L5.41 20z\"/>\n",
              "  </svg>\n",
              "      </button>\n",
              "      \n",
              "  <style>\n",
              "    .colab-df-container {\n",
              "      display:flex;\n",
              "      flex-wrap:wrap;\n",
              "      gap: 12px;\n",
              "    }\n",
              "\n",
              "    .colab-df-convert {\n",
              "      background-color: #E8F0FE;\n",
              "      border: none;\n",
              "      border-radius: 50%;\n",
              "      cursor: pointer;\n",
              "      display: none;\n",
              "      fill: #1967D2;\n",
              "      height: 32px;\n",
              "      padding: 0 0 0 0;\n",
              "      width: 32px;\n",
              "    }\n",
              "\n",
              "    .colab-df-convert:hover {\n",
              "      background-color: #E2EBFA;\n",
              "      box-shadow: 0px 1px 2px rgba(60, 64, 67, 0.3), 0px 1px 3px 1px rgba(60, 64, 67, 0.15);\n",
              "      fill: #174EA6;\n",
              "    }\n",
              "\n",
              "    [theme=dark] .colab-df-convert {\n",
              "      background-color: #3B4455;\n",
              "      fill: #D2E3FC;\n",
              "    }\n",
              "\n",
              "    [theme=dark] .colab-df-convert:hover {\n",
              "      background-color: #434B5C;\n",
              "      box-shadow: 0px 1px 3px 1px rgba(0, 0, 0, 0.15);\n",
              "      filter: drop-shadow(0px 1px 2px rgba(0, 0, 0, 0.3));\n",
              "      fill: #FFFFFF;\n",
              "    }\n",
              "  </style>\n",
              "\n",
              "      <script>\n",
              "        const buttonEl =\n",
              "          document.querySelector('#df-03aeb1e0-c632-4eed-b368-d597c6d074bb button.colab-df-convert');\n",
              "        buttonEl.style.display =\n",
              "          google.colab.kernel.accessAllowed ? 'block' : 'none';\n",
              "\n",
              "        async function convertToInteractive(key) {\n",
              "          const element = document.querySelector('#df-03aeb1e0-c632-4eed-b368-d597c6d074bb');\n",
              "          const dataTable =\n",
              "            await google.colab.kernel.invokeFunction('convertToInteractive',\n",
              "                                                     [key], {});\n",
              "          if (!dataTable) return;\n",
              "\n",
              "          const docLinkHtml = 'Like what you see? Visit the ' +\n",
              "            '<a target=\"_blank\" href=https://colab.research.google.com/notebooks/data_table.ipynb>data table notebook</a>'\n",
              "            + ' to learn more about interactive tables.';\n",
              "          element.innerHTML = '';\n",
              "          dataTable['output_type'] = 'display_data';\n",
              "          await google.colab.output.renderOutput(dataTable, element);\n",
              "          const docLink = document.createElement('div');\n",
              "          docLink.innerHTML = docLinkHtml;\n",
              "          element.appendChild(docLink);\n",
              "        }\n",
              "      </script>\n",
              "    </div>\n",
              "  </div>\n",
              "  "
            ]
          },
          "metadata": {},
          "execution_count": 43
        }
      ]
    },
    {
      "cell_type": "code",
      "source": [
        "df.isnull().sum()"
      ],
      "metadata": {
        "id": "vT7w1a1FWmzc",
        "colab": {
          "base_uri": "https://localhost:8080/"
        },
        "outputId": "0872ffa7-3cf5-4585-dfc7-673faef7a5f7"
      },
      "execution_count": null,
      "outputs": [
        {
          "output_type": "execute_result",
          "data": {
            "text/plain": [
              "Gender                    0\n",
              "Age                       0\n",
              "Annual Income (k$)        0\n",
              "Spending Score (1-100)    0\n",
              "dtype: int64"
            ]
          },
          "metadata": {},
          "execution_count": 44
        }
      ]
    },
    {
      "cell_type": "code",
      "source": [
        "df.duplicated()"
      ],
      "metadata": {
        "id": "yD3vcdIQWoU1",
        "colab": {
          "base_uri": "https://localhost:8080/"
        },
        "outputId": "42ec693a-68f2-4bd5-c297-19a414a0f1b6"
      },
      "execution_count": null,
      "outputs": [
        {
          "output_type": "execute_result",
          "data": {
            "text/plain": [
              "CustomerID\n",
              "1      False\n",
              "2      False\n",
              "3      False\n",
              "4      False\n",
              "5      False\n",
              "       ...  \n",
              "196    False\n",
              "197    False\n",
              "198    False\n",
              "199    False\n",
              "200    False\n",
              "Length: 200, dtype: bool"
            ]
          },
          "metadata": {},
          "execution_count": 45
        }
      ]
    },
    {
      "cell_type": "code",
      "source": [
        "sns.set_style('dark')\n",
        "sns.scatterplot(x = 'Annual Income (k$)', y = 'Spending Score (1-100)', data = df)\n",
        "plt.xlabel('Annual Income (k$)')\n",
        "plt.ylabel('Spending Score (1-100)')\n",
        "plt.title('Scatterplot Between Annual Income (k$) and Spending Score (1-100)')"
      ],
      "metadata": {
        "id": "P841RiuhWsNV",
        "colab": {
          "base_uri": "https://localhost:8080/",
          "height": 312
        },
        "outputId": "58599b12-6503-4b5e-d86d-c0541c95d064"
      },
      "execution_count": null,
      "outputs": [
        {
          "output_type": "execute_result",
          "data": {
            "text/plain": [
              "Text(0.5, 1.0, 'Scatterplot Between Annual Income (k$) and Spending Score (1-100)')"
            ]
          },
          "metadata": {},
          "execution_count": 46
        },
        {
          "output_type": "display_data",
          "data": {
            "text/plain": [
              "<Figure size 432x288 with 1 Axes>"
            ],
            "image/png": "[encoded data removed]"
          },
          "metadata": {}
        }
      ]
    },
    {
      "cell_type": "code",
      "source": [
        "X = df.loc[:,['Annual Income (k$)','Spending Score (1-100)']].values"
      ],
      "metadata": {
        "id": "jh9_qNmqW0W8"
      },
      "execution_count": null,
      "outputs": []
    },
    {
      "cell_type": "code",
      "source": [
        "scaler = MinMaxScaler().fit(X)\n",
        "print(scaler)"
      ],
      "metadata": {
        "id": "sL1-8By5Z4FL",
        "colab": {
          "base_uri": "https://localhost:8080/"
        },
        "outputId": "17689fe9-c9a2-4c69-def1-ee4e86ffcd34"
      },
      "execution_count": null,
      "outputs": [
        {
          "output_type": "stream",
          "name": "stdout",
          "text": [
            "MinMaxScaler()\n"
          ]
        }
      ]
    },
    {
      "cell_type": "code",
      "source": [
        "scaler.feature_range"
      ],
      "metadata": {
        "id": "zU5tdZtSZ7j0",
        "colab": {
          "base_uri": "https://localhost:8080/"
        },
        "outputId": "e75d4c55-6353-4bc8-ca17-ff17d6c4ae03"
      },
      "execution_count": null,
      "outputs": [
        {
          "output_type": "execute_result",
          "data": {
            "text/plain": [
              "(0, 1)"
            ]
          },
          "metadata": {},
          "execution_count": 49
        }
      ]
    },
    {
      "cell_type": "code",
      "source": [
        "scaler.transform(X)"
      ],
      "metadata": {
        "id": "Xa8v3KwzZ_-X",
        "colab": {
          "base_uri": "https://localhost:8080/"
        },
        "outputId": "659c065a-963e-4a5d-f5e6-fc293fa14b0c"
      },
      "execution_count": null,
      "outputs": [
        {
          "output_type": "execute_result",
          "data": {
            "text/plain": [
              "array([[0.        , 0.3877551 ],\n",
              "       [0.        , 0.81632653],\n",
              "       [0.00819672, 0.05102041],\n",
              "       [0.00819672, 0.7755102 ],\n",
              "       [0.01639344, 0.39795918],\n",
              "       [0.01639344, 0.76530612],\n",
              "       [0.02459016, 0.05102041],\n",
              "       [0.02459016, 0.94897959],\n",
              "       [0.03278689, 0.02040816],\n",
              "       [0.03278689, 0.7244898 ],\n",
              "       [0.03278689, 0.13265306],\n",
              "       [0.03278689, 1.        ],\n",
              "       [0.04098361, 0.14285714],\n",
              "       [0.04098361, 0.7755102 ],\n",
              "       [0.04098361, 0.12244898],\n",
              "       [0.04098361, 0.79591837],\n",
              "       [0.04918033, 0.34693878],\n",
              "       [0.04918033, 0.66326531],\n",
              "       [0.06557377, 0.28571429],\n",
              "       [0.06557377, 0.98979592],\n",
              "       [0.07377049, 0.34693878],\n",
              "       [0.07377049, 0.73469388],\n",
              "       [0.08196721, 0.04081633],\n",
              "       [0.08196721, 0.73469388],\n",
              "       [0.10655738, 0.13265306],\n",
              "       [0.10655738, 0.82653061],\n",
              "       [0.10655738, 0.31632653],\n",
              "       [0.10655738, 0.6122449 ],\n",
              "       [0.1147541 , 0.30612245],\n",
              "       [0.1147541 , 0.87755102],\n",
              "       [0.12295082, 0.03061224],\n",
              "       [0.12295082, 0.73469388],\n",
              "       [0.14754098, 0.03061224],\n",
              "       [0.14754098, 0.92857143],\n",
              "       [0.14754098, 0.13265306],\n",
              "       [0.14754098, 0.81632653],\n",
              "       [0.1557377 , 0.16326531],\n",
              "       [0.1557377 , 0.73469388],\n",
              "       [0.18032787, 0.25510204],\n",
              "       [0.18032787, 0.75510204],\n",
              "       [0.18852459, 0.34693878],\n",
              "       [0.18852459, 0.92857143],\n",
              "       [0.19672131, 0.35714286],\n",
              "       [0.19672131, 0.6122449 ],\n",
              "       [0.19672131, 0.2755102 ],\n",
              "       [0.19672131, 0.65306122],\n",
              "       [0.20491803, 0.55102041],\n",
              "       [0.20491803, 0.46938776],\n",
              "       [0.20491803, 0.41836735],\n",
              "       [0.20491803, 0.41836735],\n",
              "       [0.22131148, 0.52040816],\n",
              "       [0.22131148, 0.60204082],\n",
              "       [0.2295082 , 0.54081633],\n",
              "       [0.2295082 , 0.60204082],\n",
              "       [0.2295082 , 0.44897959],\n",
              "       [0.2295082 , 0.40816327],\n",
              "       [0.23770492, 0.5       ],\n",
              "       [0.23770492, 0.45918367],\n",
              "       [0.25409836, 0.51020408],\n",
              "       [0.25409836, 0.45918367],\n",
              "       [0.25409836, 0.56122449],\n",
              "       [0.25409836, 0.55102041],\n",
              "       [0.26229508, 0.52040816],\n",
              "       [0.26229508, 0.59183673],\n",
              "       [0.2704918 , 0.51020408],\n",
              "       [0.2704918 , 0.59183673],\n",
              "       [0.2704918 , 0.5       ],\n",
              "       [0.2704918 , 0.47959184],\n",
              "       [0.2704918 , 0.59183673],\n",
              "       [0.2704918 , 0.46938776],\n",
              "       [0.27868852, 0.55102041],\n",
              "       [0.27868852, 0.41836735],\n",
              "       [0.28688525, 0.48979592],\n",
              "       [0.28688525, 0.56122449],\n",
              "       [0.31967213, 0.46938776],\n",
              "       [0.31967213, 0.54081633],\n",
              "       [0.31967213, 0.53061224],\n",
              "       [0.31967213, 0.47959184],\n",
              "       [0.31967213, 0.52040816],\n",
              "       [0.31967213, 0.41836735],\n",
              "       [0.31967213, 0.51020408],\n",
              "       [0.31967213, 0.55102041],\n",
              "       [0.31967213, 0.40816327],\n",
              "       [0.31967213, 0.43877551],\n",
              "       [0.31967213, 0.57142857],\n",
              "       [0.31967213, 0.45918367],\n",
              "       [0.3442623 , 0.58163265],\n",
              "       [0.3442623 , 0.55102041],\n",
              "       [0.35245902, 0.60204082],\n",
              "       [0.35245902, 0.45918367],\n",
              "       [0.36065574, 0.55102041],\n",
              "       [0.36065574, 0.40816327],\n",
              "       [0.36885246, 0.48979592],\n",
              "       [0.36885246, 0.39795918],\n",
              "       [0.36885246, 0.41836735],\n",
              "       [0.36885246, 0.52040816],\n",
              "       [0.36885246, 0.46938776],\n",
              "       [0.36885246, 0.5       ],\n",
              "       [0.37704918, 0.41836735],\n",
              "       [0.37704918, 0.48979592],\n",
              "       [0.3852459 , 0.40816327],\n",
              "       [0.3852459 , 0.47959184],\n",
              "       [0.3852459 , 0.59183673],\n",
              "       [0.3852459 , 0.55102041],\n",
              "       [0.3852459 , 0.56122449],\n",
              "       [0.3852459 , 0.41836735],\n",
              "       [0.39344262, 0.5       ],\n",
              "       [0.39344262, 0.45918367],\n",
              "       [0.39344262, 0.42857143],\n",
              "       [0.39344262, 0.47959184],\n",
              "       [0.39344262, 0.52040816],\n",
              "       [0.39344262, 0.54081633],\n",
              "       [0.40163934, 0.41836735],\n",
              "       [0.40163934, 0.45918367],\n",
              "       [0.40983607, 0.47959184],\n",
              "       [0.40983607, 0.5       ],\n",
              "       [0.40983607, 0.42857143],\n",
              "       [0.40983607, 0.59183673],\n",
              "       [0.42622951, 0.42857143],\n",
              "       [0.42622951, 0.57142857],\n",
              "       [0.42622951, 0.56122449],\n",
              "       [0.42622951, 0.39795918],\n",
              "       [0.44262295, 0.58163265],\n",
              "       [0.44262295, 0.91836735],\n",
              "       [0.45081967, 0.28571429],\n",
              "       [0.45081967, 0.7755102 ],\n",
              "       [0.45901639, 0.34693878],\n",
              "       [0.45901639, 0.95918367],\n",
              "       [0.45901639, 0.10204082],\n",
              "       [0.45901639, 0.75510204],\n",
              "       [0.45901639, 0.08163265],\n",
              "       [0.45901639, 0.75510204],\n",
              "       [0.46721311, 0.33673469],\n",
              "       [0.46721311, 0.71428571],\n",
              "       [0.47540984, 0.04081633],\n",
              "       [0.47540984, 0.8877551 ],\n",
              "       [0.47540984, 0.06122449],\n",
              "       [0.47540984, 0.73469388],\n",
              "       [0.48360656, 0.09183673],\n",
              "       [0.48360656, 0.7244898 ],\n",
              "       [0.49180328, 0.04081633],\n",
              "       [0.49180328, 0.93877551],\n",
              "       [0.5       , 0.39795918],\n",
              "       [0.5       , 0.87755102],\n",
              "       [0.50819672, 0.1122449 ],\n",
              "       [0.50819672, 0.97959184],\n",
              "       [0.50819672, 0.35714286],\n",
              "       [0.50819672, 0.74489796],\n",
              "       [0.51639344, 0.21428571],\n",
              "       [0.51639344, 0.90816327],\n",
              "       [0.51639344, 0.16326531],\n",
              "       [0.51639344, 0.8877551 ],\n",
              "       [0.51639344, 0.19387755],\n",
              "       [0.51639344, 0.76530612],\n",
              "       [0.51639344, 0.15306122],\n",
              "       [0.51639344, 0.89795918],\n",
              "       [0.51639344, 0.        ],\n",
              "       [0.51639344, 0.78571429],\n",
              "       [0.51639344, 0.        ],\n",
              "       [0.51639344, 0.73469388],\n",
              "       [0.52459016, 0.34693878],\n",
              "       [0.52459016, 0.83673469],\n",
              "       [0.54098361, 0.04081633],\n",
              "       [0.54098361, 0.93877551],\n",
              "       [0.57377049, 0.25510204],\n",
              "       [0.57377049, 0.75510204],\n",
              "       [0.58196721, 0.19387755],\n",
              "       [0.58196721, 0.95918367],\n",
              "       [0.59016393, 0.26530612],\n",
              "       [0.59016393, 0.63265306],\n",
              "       [0.59016393, 0.12244898],\n",
              "       [0.59016393, 0.75510204],\n",
              "       [0.59016393, 0.09183673],\n",
              "       [0.59016393, 0.92857143],\n",
              "       [0.59836066, 0.12244898],\n",
              "       [0.59836066, 0.86734694],\n",
              "       [0.59836066, 0.14285714],\n",
              "       [0.59836066, 0.69387755],\n",
              "       [0.63934426, 0.13265306],\n",
              "       [0.63934426, 0.90816327],\n",
              "       [0.67213115, 0.31632653],\n",
              "       [0.67213115, 0.86734694],\n",
              "       [0.68032787, 0.14285714],\n",
              "       [0.68032787, 0.8877551 ],\n",
              "       [0.68852459, 0.3877551 ],\n",
              "       [0.68852459, 0.97959184],\n",
              "       [0.70491803, 0.23469388],\n",
              "       [0.70491803, 0.68367347],\n",
              "       [0.72131148, 0.16326531],\n",
              "       [0.72131148, 0.85714286],\n",
              "       [0.72131148, 0.2244898 ],\n",
              "       [0.72131148, 0.69387755],\n",
              "       [0.80327869, 0.07142857],\n",
              "       [0.80327869, 0.91836735],\n",
              "       [0.86065574, 0.15306122],\n",
              "       [0.86065574, 0.79591837],\n",
              "       [0.90983607, 0.2755102 ],\n",
              "       [0.90983607, 0.74489796],\n",
              "       [1.        , 0.17346939],\n",
              "       [1.        , 0.83673469]])"
            ]
          },
          "metadata": {},
          "execution_count": 50
        }
      ]
    },
    {
      "cell_type": "code",
      "source": [
        "wcss = []\n",
        "\n",
        "for i in range(1,11):\n",
        "    kmeans= KMeans(n_clusters = i, init = 'k-means++')\n",
        "    kmeans.fit(X)\n",
        "    wcss.append(kmeans.inertia_)"
      ],
      "metadata": {
        "id": "3O_cC-dvaBvK"
      },
      "execution_count": null,
      "outputs": []
    },
    {
      "cell_type": "code",
      "source": [
        "plt.figure(figsize = (12,6))\n",
        "plt.grid()\n",
        "plt.plot(range(1,11),wcss, color='green', linestyle='dashed', linewidth = 3,\n",
        "         marker='o', markerfacecolor='blue', markersize=12)\n",
        "plt.title('The Elbow Point Graph')\n",
        "plt.xlabel('Number of Clusters')\n",
        "plt.ylabel('WCSS')\n",
        "plt.show"
      ],
      "metadata": {
        "id": "eQNhLzwZaL2B",
        "colab": {
          "base_uri": "https://localhost:8080/",
          "height": 421
        },
        "outputId": "d1da4c16-ccab-438d-f043-d87c8e06df19"
      },
      "execution_count": null,
      "outputs": [
        {
          "output_type": "execute_result",
          "data": {
            "text/plain": [
              "<function matplotlib.pyplot.show(*args, **kw)>"
            ]
          },
          "metadata": {},
          "execution_count": 52
        },
        {
          "output_type": "display_data",
          "data": {
            "text/plain": [
              "<Figure size 864x432 with 1 Axes>"
            ],
            "image/png": "[encoded data removed]"
          },
          "metadata": {}
        }
      ]
    },
    {
      "cell_type": "code",
      "source": [
        "kmeans= KMeans(n_clusters = 5, init = 'k-means++')\n",
        "label= kmeans.fit_predict(X)\n",
        "print(label)"
      ],
      "metadata": {
        "id": "v8UnnhdIaPHB",
        "colab": {
          "base_uri": "https://localhost:8080/"
        },
        "outputId": "390bd9ef-bbe1-4264-8524-dd3c091d5499"
      },
      "execution_count": null,
      "outputs": [
        {
          "output_type": "stream",
          "name": "stdout",
          "text": [
            "[0 3 0 3 0 3 0 3 0 3 0 3 0 3 0 3 0 3 0 3 0 3 0 3 0 3 0 3 0 3 0 3 0 3 0 3 0\n",
            " 3 0 3 0 3 0 1 0 3 1 1 1 1 1 1 1 1 1 1 1 1 1 1 1 1 1 1 1 1 1 1 1 1 1 1 1 1\n",
            " 1 1 1 1 1 1 1 1 1 1 1 1 1 1 1 1 1 1 1 1 1 1 1 1 1 1 1 1 1 1 1 1 1 1 1 1 1\n",
            " 1 1 1 1 1 1 1 1 1 1 1 1 4 2 4 1 4 2 4 2 4 1 4 2 4 2 4 2 4 2 4 1 4 2 4 2 4\n",
            " 2 4 2 4 2 4 2 4 2 4 2 4 2 4 2 4 2 4 2 4 2 4 2 4 2 4 2 4 2 4 2 4 2 4 2 4 2\n",
            " 4 2 4 2 4 2 4 2 4 2 4 2 4 2 4]\n"
          ]
        }
      ]
    },
    {
      "cell_type": "code",
      "source": [
        "print(kmeans.cluster_centers_)"
      ],
      "metadata": {
        "id": "6YgUU--GaYNY",
        "colab": {
          "base_uri": "https://localhost:8080/"
        },
        "outputId": "2dcfee2d-8694-4092-b5e7-c3324132ea47"
      },
      "execution_count": null,
      "outputs": [
        {
          "output_type": "stream",
          "name": "stdout",
          "text": [
            "[[26.30434783 20.91304348]\n",
            " [55.2962963  49.51851852]\n",
            " [88.2        17.11428571]\n",
            " [25.72727273 79.36363636]\n",
            " [86.53846154 82.12820513]]\n"
          ]
        }
      ]
    },
    {
      "cell_type": "code",
      "source": [
        "plt.figure(figsize=(8,8))\n",
        "plt.scatter(X[label == 0,0], X[label== 0,1], s=50, c='green', label='Cluster 1')\n",
        "plt.scatter(X[label == 1,0], X[label== 1,1], s=50, c='yellow', label='Cluster 2')\n",
        "plt.scatter(X[label == 2,0], X[label== 2,1], s=50, c='red', label='Cluster 3')\n",
        "plt.scatter(X[label == 3,0], X[label== 3,1], s=50, c='purple', label='Cluster 4')\n",
        "plt.scatter(X[label == 4,0], X[label== 4,1], s=50, c='blue', label='Cluster 5')\n",
        "plt.scatter(kmeans.cluster_centers_ [:,0], kmeans.cluster_centers_ [:,1], s= 100, c='black', marker= '*', label='Centriods') #Plotting the centriods\n",
        "plt.title('Customer groups')\n",
        "plt.xlabel('Annual Income')\n",
        "plt.ylabel('Spending Score (1-100)')\n",
        "plt.legend()\n",
        "plt.show()"
      ],
      "metadata": {
        "id": "eeAT415lab5J",
        "colab": {
          "base_uri": "https://localhost:8080/",
          "height": 513
        },
        "outputId": "13c007a2-35c9-4e20-c878-7d08482586b2"
      },
      "execution_count": null,
      "outputs": [
        {
          "output_type": "display_data",
          "data": {
            "text/plain": [
              "<Figure size 576x576 with 1 Axes>"
            ],
            "image/png": "[encoded data removed]"
          },
          "metadata": {}
        }
      ]
    }
  ]
}